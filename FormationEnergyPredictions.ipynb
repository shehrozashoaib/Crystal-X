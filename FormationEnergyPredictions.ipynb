{
 "cells": [
  {
   "cell_type": "code",
   "execution_count": 5,
   "metadata": {},
   "outputs": [],
   "source": [
    "import mp_api"
   ]
  },
  {
   "cell_type": "code",
   "execution_count": 6,
   "metadata": {},
   "outputs": [],
   "source": [
    "from mp_api.client import MPRester"
   ]
  },
  {
   "cell_type": "code",
   "execution_count": 12,
   "metadata": {},
   "outputs": [],
   "source": [
    "from pymatgen.core import Lattice, Structure, Element"
   ]
  },
  {
   "cell_type": "code",
   "execution_count": 49,
   "metadata": {},
   "outputs": [],
   "source": [
    "api_key = 'your_key'\n",
    "mpr = MPRester(api_key)"
   ]
  },
  {
   "cell_type": "code",
   "execution_count": 50,
   "metadata": {},
   "outputs": [],
   "source": [
    "from atom2vec import AtomSimilarity\n"
   ]
  },
  {
   "cell_type": "code",
   "execution_count": 13,
   "metadata": {},
   "outputs": [
    {
     "name": "stdout",
     "output_type": "stream",
     "text": [
      "['H', 'H', 'H', 'He', 'Li', 'Be', 'B', 'C', 'N', 'O', 'F', 'Ne', 'Na', 'Mg', 'Al', 'Si', 'P', 'S', 'Cl', 'Ar', 'K', 'Ca', 'Sc', 'Ti', 'V', 'Cr', 'Mn', 'Fe', 'Co', 'Ni', 'Cu', 'Zn', 'Ga', 'Ge', 'As', 'Se', 'Br', 'Kr', 'Rb', 'Sr', 'Y', 'Zr', 'Nb', 'Mo', 'Tc', 'Ru', 'Rh', 'Pd', 'Ag', 'Cd', 'In', 'Sn', 'Sb', 'Te', 'I', 'Xe', 'Cs', 'Ba', 'La', 'Ce', 'Pr', 'Nd', 'Pm', 'Sm', 'Eu', 'Gd', 'Tb', 'Dy', 'Ho', 'Er', 'Tm', 'Yb', 'Lu', 'Hf', 'Ta', 'W', 'Re', 'Os', 'Ir', 'Pt', 'Au', 'Hg', 'Tl', 'Pb', 'Bi', 'Po', 'At', 'Rn', 'Fr', 'Ra', 'Ac', 'Th', 'Pa', 'U', 'Np', 'Pu', 'Am', 'Cm', 'Bk', 'Cf', 'Es', 'Fm', 'Md', 'No', 'Lr', 'Rf', 'Db', 'Sg', 'Bh', 'Hs', 'Mt', 'Ds', 'Rg', 'Cn', 'Nh', 'Fl', 'Mc', 'Lv', 'Ts', 'Og']\n"
     ]
    },
    {
     "name": "stderr",
     "output_type": "stream",
     "text": [
      "Retrieving MaterialsDoc documents:   0%|          | 219/153235 [00:03<56:07, 45.44it/s] C:\\Users\\shehr\\AppData\\Local\\Packages\\PythonSoftwareFoundation.Python.3.11_qbz5n2kfra8p0\\LocalCache\\local-packages\\Python311\\site-packages\\pymatgen\\core\\periodic_table.py:289: UserWarning: No Pauling electronegativity for He. Setting to NaN. This has no physical meaning, and is mainly done to avoid errors caused by the code expecting a float.\n",
      "  warnings.warn(\n",
      "Retrieving MaterialsDoc documents:   0%|          | 301/153235 [00:04<23:05, 110.38it/s]C:\\Users\\shehr\\AppData\\Local\\Packages\\PythonSoftwareFoundation.Python.3.11_qbz5n2kfra8p0\\LocalCache\\local-packages\\Python311\\site-packages\\pymatgen\\core\\periodic_table.py:289: UserWarning: No Pauling electronegativity for Ar. Setting to NaN. This has no physical meaning, and is mainly done to avoid errors caused by the code expecting a float.\n",
      "  warnings.warn(\n",
      "Retrieving MaterialsDoc documents:   0%|          | 512/153235 [00:05<23:30, 108.25it/s]C:\\Users\\shehr\\AppData\\Local\\Packages\\PythonSoftwareFoundation.Python.3.11_qbz5n2kfra8p0\\LocalCache\\local-packages\\Python311\\site-packages\\pymatgen\\core\\periodic_table.py:289: UserWarning: No Pauling electronegativity for Ne. Setting to NaN. This has no physical meaning, and is mainly done to avoid errors caused by the code expecting a float.\n",
      "  warnings.warn(\n",
      "Retrieving MaterialsDoc documents: 155361it [15:59, 161.87it/s]                            \n"
     ]
    }
   ],
   "source": [
    "element_symbols = [element.symbol for element in Element]\n",
    "print(element_symbols)\n",
    "\n",
    "\n",
    "results = mpr.materials.search(fields=[\"structure\"])"
   ]
  },
  {
   "cell_type": "code",
   "execution_count": 102,
   "metadata": {},
   "outputs": [
    {
     "name": "stderr",
     "output_type": "stream",
     "text": [
      "Retrieving SummaryDoc documents: 100%|██████████| 2723/2723 [00:04<00:00, 565.16it/s]\n"
     ]
    }
   ],
   "source": [
    "elapsolites = mpr.materials.summary.search(spacegroup_number=[225],num_elements=4,fields = [\"structure\",\"formation_energy_per_atom\",\"formula_pretty\"])"
   ]
  },
  {
   "cell_type": "code",
   "execution_count": 109,
   "metadata": {},
   "outputs": [
    {
     "data": {
      "text/plain": [
       "\u001b[4m\u001b[1mMPDataDoc<SummaryDoc>\u001b[0;0m\u001b[0;0m(\n",
       "\u001b[1mformula_pretty\u001b[0;0m='Ba2CaBiO6',\n",
       "\u001b[1mstructure\u001b[0;0m=Structure Summary\n",
       "Lattice\n",
       "    abc : 6.2038536706419825 6.2038536706419825 6.2038536706419825\n",
       " angles : 60.00000000000001 60.00000000000001 60.00000000000001\n",
       " volume : 168.83778230740148\n",
       "      A : 0.0 4.386787 4.386787\n",
       "      B : 4.386787 0.0 4.386787\n",
       "      C : 4.386787 4.386787 0.0\n",
       "    pbc : True True True\n",
       "PeriodicSite: Ba (2.193, 2.193, 2.193) [0.25, 0.25, 0.25]\n",
       "PeriodicSite: Ba (6.58, 6.58, 6.58) [0.75, 0.75, 0.75]\n",
       "PeriodicSite: Ca (4.387, 4.387, 4.387) [0.5, 0.5, 0.5]\n",
       "PeriodicSite: Bi (0.0, 0.0, 0.0) [0.0, 0.0, 0.0]\n",
       "PeriodicSite: O (2.115, 4.387, 4.387) [0.7589, 0.2411, 0.2411]\n",
       "PeriodicSite: O (6.659, 4.387, 4.387) [0.2411, 0.7589, 0.7589]\n",
       "PeriodicSite: O (4.387, 2.115, 4.387) [0.2411, 0.7589, 0.2411]\n",
       "PeriodicSite: O (4.387, 6.659, 4.387) [0.7589, 0.2411, 0.7589]\n",
       "PeriodicSite: O (4.387, 4.387, 2.115) [0.2411, 0.2411, 0.7589]\n",
       "PeriodicSite: O (4.387, 4.387, 6.659) [0.7589, 0.7589, 0.2411],\n",
       "\u001b[1mformation_energy_per_atom\u001b[0;0m=-2.4448908344999993,\n",
       "\u001b[1mfields_not_requested\u001b[0;0m=['builder_meta', 'nsites', 'elements', 'nelements', 'composition', 'composition_reduced', 'formula_anonymous', 'chemsys', 'volume', 'density', 'density_atomic', 'symmetry', 'property_name', 'material_id', 'deprecated', 'deprecation_reasons', 'last_updated', 'origins', 'warnings', 'task_ids', 'uncorrected_energy_per_atom', 'energy_per_atom', 'energy_above_hull', 'is_stable', 'equilibrium_reaction_energy_per_atom', 'decomposes_to', 'xas', 'grain_boundaries', 'band_gap', 'cbm', 'vbm', 'efermi', 'is_gap_direct', 'is_metal', 'es_source_calc_id', 'bandstructure', 'dos', 'dos_energy_up', 'dos_energy_down', 'is_magnetic', 'ordering', 'total_magnetization', 'total_magnetization_normalized_vol', 'total_magnetization_normalized_formula_units', 'num_magnetic_sites', 'num_unique_magnetic_sites', 'types_of_magnetic_species', 'bulk_modulus', 'shear_modulus', 'universal_anisotropy', 'homogeneous_poisson', 'e_total', 'e_ionic', 'e_electronic', 'n', 'e_ij_max', 'weighted_surface_energy_EV_PER_ANG2', 'weighted_surface_energy', 'weighted_work_function', 'surface_anisotropy', 'shape_factor', 'has_reconstructed', 'possible_species', 'has_props', 'theoretical', 'database_IDs']\n",
       ")"
      ]
     },
     "execution_count": 109,
     "metadata": {},
     "output_type": "execute_result"
    }
   ],
   "source": [
    "elapsolites[6]"
   ]
  },
  {
   "cell_type": "code",
   "execution_count": 110,
   "metadata": {},
   "outputs": [],
   "source": [
    "elapsolites_structures = [entry.structure for entry in elapsolites]"
   ]
  },
  {
   "cell_type": "code",
   "execution_count": 111,
   "metadata": {},
   "outputs": [
    {
     "name": "stderr",
     "output_type": "stream",
     "text": [
      "Generating the environment matrix: 100%|██████████| 2723/2723 [00:00<00:00, 6253.32it/s]\n"
     ]
    }
   ],
   "source": [
    "atom_similarity = AtomSimilarity.from_structures(elapsolites_structures,\n",
    "                                                 k_dim=20, max_elements=4)"
   ]
  },
  {
   "cell_type": "code",
   "execution_count": 112,
   "metadata": {},
   "outputs": [
    {
     "data": {
      "text/plain": [
       "[Element Ba, Element Na, Element Ca, Element N]"
      ]
     },
     "execution_count": 112,
     "metadata": {},
     "output_type": "execute_result"
    }
   ],
   "source": [
    "elapsolites_structures[0].composition.elements"
   ]
  },
  {
   "cell_type": "code",
   "execution_count": 113,
   "metadata": {},
   "outputs": [
    {
     "data": {
      "text/plain": [
       "[[-0.20001311600208282,\n",
       "  -0.13775986433029175,\n",
       "  -0.1785026639699936,\n",
       "  -0.6546120047569275,\n",
       "  -7.813165187835693,\n",
       "  -0.12019948661327362,\n",
       "  -1.0320004224777222,\n",
       "  -0.395267128944397,\n",
       "  0.990393877029419,\n",
       "  0.5809566378593445,\n",
       "  0.7327646017074585,\n",
       "  -3.835299015045166,\n",
       "  -2.924567222595215,\n",
       "  0.12730944156646729,\n",
       "  -13.737409591674805,\n",
       "  -0.00023279448214452714,\n",
       "  0.2920914888381958,\n",
       "  0.1882876753807068,\n",
       "  -0.017063623294234276,\n",
       "  0.08576801419258118],\n",
       " [0.2118758261203766,\n",
       "  0.09429769963026047,\n",
       "  -0.09315813332796097,\n",
       "  0.6408393383026123,\n",
       "  -0.22139760851860046,\n",
       "  0.03986053913831711,\n",
       "  3.5872063636779785,\n",
       "  5.099949359893799,\n",
       "  5.889552593231201,\n",
       "  -4.262401580810547,\n",
       "  6.807533264160156,\n",
       "  5.150949478149414,\n",
       "  -1.1913197040557861,\n",
       "  -0.018259776756167412,\n",
       "  -1.2994571924209595,\n",
       "  0.0005505976732820272,\n",
       "  -8.303853988647461,\n",
       "  -2.0635433197021484,\n",
       "  0.015496998094022274,\n",
       "  16.290634155273438],\n",
       " [-1.0692789554595947,\n",
       "  -1.133027195930481,\n",
       "  0.06260550767183304,\n",
       "  -0.006668010260909796,\n",
       "  1.918792963027954,\n",
       "  0.02274491637945175,\n",
       "  0.807163417339325,\n",
       "  0.27852150797843933,\n",
       "  -0.8628210425376892,\n",
       "  -0.5664940476417542,\n",
       "  -0.5093632340431213,\n",
       "  1.0969775915145874,\n",
       "  -0.09780853986740112,\n",
       "  0.031699586659669876,\n",
       "  -2.520122766494751,\n",
       "  -4.6603407099610195e-05,\n",
       "  0.5111673474311829,\n",
       "  0.8279159069061279,\n",
       "  0.003387796925380826,\n",
       "  0.31490176916122437],\n",
       " [-0.042748600244522095,\n",
       "  -0.3737221956253052,\n",
       "  0.23104625940322876,\n",
       "  0.5023593306541443,\n",
       "  0.0532769076526165,\n",
       "  -0.00520678423345089,\n",
       "  0.018477855250239372,\n",
       "  -0.1058410257101059,\n",
       "  -0.12206625938415527,\n",
       "  -0.013296368531882763,\n",
       "  -0.02575080841779709,\n",
       "  -0.19928604364395142,\n",
       "  -0.21880632638931274,\n",
       "  -0.0008993803057819605,\n",
       "  0.05523937940597534,\n",
       "  -1.4590213140763808e-05,\n",
       "  0.20228426158428192,\n",
       "  0.3605131208896637,\n",
       "  0.002087953733280301,\n",
       "  0.3037319481372833]]"
      ]
     },
     "execution_count": 113,
     "metadata": {},
     "output_type": "execute_result"
    }
   ],
   "source": [
    "all_attom_vectors = []\n",
    "\n",
    "for material in elapsolites_structures:  # Get the structure\n",
    "    elements = material.composition.elements\n",
    "    \n",
    "    element_objects = [Element(sym) for sym in elements]\n",
    "    \n",
    "    atom_vectors = [atom_similarity.get_atom_vector(elem) for elem in element_objects]\n",
    "    \n",
    "    all_attom_vectors.append(atom_vectors)\n",
    "    \n",
    "all_attom_vectors[0]    "
   ]
  },
  {
   "cell_type": "code",
   "execution_count": 114,
   "metadata": {},
   "outputs": [],
   "source": [
    "import numpy as np"
   ]
  },
  {
   "cell_type": "code",
   "execution_count": 115,
   "metadata": {},
   "outputs": [],
   "source": [
    "all_attom_vectors = np.array(all_attom_vectors)"
   ]
  },
  {
   "cell_type": "code",
   "execution_count": 116,
   "metadata": {},
   "outputs": [
    {
     "data": {
      "text/plain": [
       "array([[-2.00013116e-01, -1.37759864e-01, -1.78502664e-01,\n",
       "        -6.54612005e-01, -7.81316519e+00, -1.20199487e-01,\n",
       "        -1.03200042e+00, -3.95267129e-01,  9.90393877e-01,\n",
       "         5.80956638e-01,  7.32764602e-01, -3.83529902e+00,\n",
       "        -2.92456722e+00,  1.27309442e-01, -1.37374096e+01,\n",
       "        -2.32794482e-04,  2.92091489e-01,  1.88287675e-01,\n",
       "        -1.70636233e-02,  8.57680142e-02],\n",
       "       [ 2.11875826e-01,  9.42976996e-02, -9.31581333e-02,\n",
       "         6.40839338e-01, -2.21397609e-01,  3.98605391e-02,\n",
       "         3.58720636e+00,  5.09994936e+00,  5.88955259e+00,\n",
       "        -4.26240158e+00,  6.80753326e+00,  5.15094948e+00,\n",
       "        -1.19131970e+00, -1.82597768e-02, -1.29945719e+00,\n",
       "         5.50597673e-04, -8.30385399e+00, -2.06354332e+00,\n",
       "         1.54969981e-02,  1.62906342e+01],\n",
       "       [-1.06927896e+00, -1.13302720e+00,  6.26055077e-02,\n",
       "        -6.66801026e-03,  1.91879296e+00,  2.27449164e-02,\n",
       "         8.07163417e-01,  2.78521508e-01, -8.62821043e-01,\n",
       "        -5.66494048e-01, -5.09363234e-01,  1.09697759e+00,\n",
       "        -9.78085399e-02,  3.16995867e-02, -2.52012277e+00,\n",
       "        -4.66034071e-05,  5.11167347e-01,  8.27915907e-01,\n",
       "         3.38779693e-03,  3.14901769e-01],\n",
       "       [-4.27486002e-02, -3.73722196e-01,  2.31046259e-01,\n",
       "         5.02359331e-01,  5.32769077e-02, -5.20678423e-03,\n",
       "         1.84778553e-02, -1.05841026e-01, -1.22066259e-01,\n",
       "        -1.32963685e-02, -2.57508084e-02, -1.99286044e-01,\n",
       "        -2.18806326e-01, -8.99380306e-04,  5.52393794e-02,\n",
       "        -1.45902131e-05,  2.02284262e-01,  3.60513121e-01,\n",
       "         2.08795373e-03,  3.03731948e-01]])"
      ]
     },
     "execution_count": 116,
     "metadata": {},
     "output_type": "execute_result"
    }
   ],
   "source": [
    "all_attom_vectors[0]"
   ]
  },
  {
   "cell_type": "code",
   "execution_count": 117,
   "metadata": {},
   "outputs": [],
   "source": [
    "all_attom_vectors = all_attom_vectors.reshape(all_attom_vectors.shape[0], -1)"
   ]
  },
  {
   "cell_type": "code",
   "execution_count": 118,
   "metadata": {},
   "outputs": [
    {
     "data": {
      "text/plain": [
       "array([-2.00013116e-01, -1.37759864e-01, -1.78502664e-01, -6.54612005e-01,\n",
       "       -7.81316519e+00, -1.20199487e-01, -1.03200042e+00, -3.95267129e-01,\n",
       "        9.90393877e-01,  5.80956638e-01,  7.32764602e-01, -3.83529902e+00,\n",
       "       -2.92456722e+00,  1.27309442e-01, -1.37374096e+01, -2.32794482e-04,\n",
       "        2.92091489e-01,  1.88287675e-01, -1.70636233e-02,  8.57680142e-02,\n",
       "        2.11875826e-01,  9.42976996e-02, -9.31581333e-02,  6.40839338e-01,\n",
       "       -2.21397609e-01,  3.98605391e-02,  3.58720636e+00,  5.09994936e+00,\n",
       "        5.88955259e+00, -4.26240158e+00,  6.80753326e+00,  5.15094948e+00,\n",
       "       -1.19131970e+00, -1.82597768e-02, -1.29945719e+00,  5.50597673e-04,\n",
       "       -8.30385399e+00, -2.06354332e+00,  1.54969981e-02,  1.62906342e+01,\n",
       "       -1.06927896e+00, -1.13302720e+00,  6.26055077e-02, -6.66801026e-03,\n",
       "        1.91879296e+00,  2.27449164e-02,  8.07163417e-01,  2.78521508e-01,\n",
       "       -8.62821043e-01, -5.66494048e-01, -5.09363234e-01,  1.09697759e+00,\n",
       "       -9.78085399e-02,  3.16995867e-02, -2.52012277e+00, -4.66034071e-05,\n",
       "        5.11167347e-01,  8.27915907e-01,  3.38779693e-03,  3.14901769e-01,\n",
       "       -4.27486002e-02, -3.73722196e-01,  2.31046259e-01,  5.02359331e-01,\n",
       "        5.32769077e-02, -5.20678423e-03,  1.84778553e-02, -1.05841026e-01,\n",
       "       -1.22066259e-01, -1.32963685e-02, -2.57508084e-02, -1.99286044e-01,\n",
       "       -2.18806326e-01, -8.99380306e-04,  5.52393794e-02, -1.45902131e-05,\n",
       "        2.02284262e-01,  3.60513121e-01,  2.08795373e-03,  3.03731948e-01])"
      ]
     },
     "execution_count": 118,
     "metadata": {},
     "output_type": "execute_result"
    }
   ],
   "source": [
    "all_attom_vectors[0]"
   ]
  },
  {
   "cell_type": "code",
   "execution_count": 119,
   "metadata": {},
   "outputs": [],
   "source": [
    "formation_energies = [entry.formation_energy_per_atom for entry in elapsolites]"
   ]
  },
  {
   "cell_type": "code",
   "execution_count": 120,
   "metadata": {},
   "outputs": [
    {
     "data": {
      "text/plain": [
       "-0.3166714356945818"
      ]
     },
     "execution_count": 120,
     "metadata": {},
     "output_type": "execute_result"
    }
   ],
   "source": [
    "formation_energies[0]"
   ]
  },
  {
   "cell_type": "code",
   "execution_count": 121,
   "metadata": {},
   "outputs": [],
   "source": [
    "formation_energies = np.array(formation_energies)"
   ]
  },
  {
   "cell_type": "code",
   "execution_count": 123,
   "metadata": {},
   "outputs": [
    {
     "data": {
      "text/plain": [
       "(2723,)"
      ]
     },
     "execution_count": 123,
     "metadata": {},
     "output_type": "execute_result"
    }
   ],
   "source": [
    "formation_energies.shape"
   ]
  },
  {
   "cell_type": "code",
   "execution_count": 125,
   "metadata": {},
   "outputs": [],
   "source": [
    "import tensorflow as tf\n",
    "from tensorflow.keras.models import Sequential\n",
    "from tensorflow.keras.layers import Dense\n",
    "from tensorflow.keras import regularizers\n",
    "from sklearn.model_selection import train_test_split\n",
    "from sklearn.preprocessing import StandardScaler"
   ]
  },
  {
   "cell_type": "code",
   "execution_count": 126,
   "metadata": {},
   "outputs": [],
   "source": [
    "X_train, X_test, y_train, y_test = train_test_split(\n",
    "    all_attom_vectors, \n",
    "    formation_energies, \n",
    "    test_size=0.15, \n",
    "    random_state=42\n",
    ")"
   ]
  },
  {
   "cell_type": "code",
   "execution_count": 127,
   "metadata": {},
   "outputs": [
    {
     "name": "stderr",
     "output_type": "stream",
     "text": [
      "C:\\Users\\shehr\\AppData\\Local\\Packages\\PythonSoftwareFoundation.Python.3.11_qbz5n2kfra8p0\\LocalCache\\local-packages\\Python311\\site-packages\\keras\\src\\layers\\core\\dense.py:87: UserWarning: Do not pass an `input_shape`/`input_dim` argument to a layer. When using Sequential models, prefer using an `Input(shape)` object as the first layer in the model instead.\n",
      "  super().__init__(activity_regularizer=activity_regularizer, **kwargs)\n"
     ]
    }
   ],
   "source": [
    "model = Sequential()\n",
    "\n",
    "# Add a dense layer with L2 regularization\n",
    "model.add(Dense(\n",
    "    units=64,  # Number of units in the dense layer\n",
    "    activation='relu',  # Activation function\n",
    "    kernel_regularizer=regularizers.l2(0.01),  # L2 regularization\n",
    "    input_shape=(X_train.shape[1],)  # Input shape\n",
    "))\n",
    "\n",
    "# Add the output layer\n",
    "model.add(Dense(\n",
    "    units=1,  # Single output unit for regression\n",
    "    activation='linear'  # Linear activation for regression\n",
    "))\n",
    "\n",
    "# Compile the model\n",
    "model.compile(\n",
    "    optimizer='adam',  # Optimizer\n",
    "    loss='mean_squared_error'  # Loss function\n",
    ")"
   ]
  },
  {
   "cell_type": "code",
   "execution_count": 129,
   "metadata": {},
   "outputs": [
    {
     "name": "stdout",
     "output_type": "stream",
     "text": [
      "Epoch 1/50\n",
      "\u001b[1m66/66\u001b[0m \u001b[32m━━━━━━━━━━━━━━━━━━━━\u001b[0m\u001b[37m\u001b[0m \u001b[1m0s\u001b[0m 2ms/step - loss: 0.3213 - val_loss: 0.3812\n",
      "Epoch 2/50\n",
      "\u001b[1m66/66\u001b[0m \u001b[32m━━━━━━━━━━━━━━━━━━━━\u001b[0m\u001b[37m\u001b[0m \u001b[1m0s\u001b[0m 2ms/step - loss: 0.2943 - val_loss: 0.3651\n",
      "Epoch 3/50\n",
      "\u001b[1m66/66\u001b[0m \u001b[32m━━━━━━━━━━━━━━━━━━━━\u001b[0m\u001b[37m\u001b[0m \u001b[1m0s\u001b[0m 2ms/step - loss: 0.2995 - val_loss: 0.3516\n",
      "Epoch 4/50\n",
      "\u001b[1m66/66\u001b[0m \u001b[32m━━━━━━━━━━━━━━━━━━━━\u001b[0m\u001b[37m\u001b[0m \u001b[1m0s\u001b[0m 2ms/step - loss: 0.2767 - val_loss: 0.3534\n",
      "Epoch 5/50\n",
      "\u001b[1m66/66\u001b[0m \u001b[32m━━━━━━━━━━━━━━━━━━━━\u001b[0m\u001b[37m\u001b[0m \u001b[1m0s\u001b[0m 2ms/step - loss: 0.2801 - val_loss: 0.3469\n",
      "Epoch 6/50\n",
      "\u001b[1m66/66\u001b[0m \u001b[32m━━━━━━━━━━━━━━━━━━━━\u001b[0m\u001b[37m\u001b[0m \u001b[1m0s\u001b[0m 2ms/step - loss: 0.2753 - val_loss: 0.3336\n",
      "Epoch 7/50\n",
      "\u001b[1m66/66\u001b[0m \u001b[32m━━━━━━━━━━━━━━━━━━━━\u001b[0m\u001b[37m\u001b[0m \u001b[1m0s\u001b[0m 2ms/step - loss: 0.2601 - val_loss: 0.3244\n",
      "Epoch 8/50\n",
      "\u001b[1m66/66\u001b[0m \u001b[32m━━━━━━━━━━━━━━━━━━━━\u001b[0m\u001b[37m\u001b[0m \u001b[1m0s\u001b[0m 2ms/step - loss: 0.2718 - val_loss: 0.3201\n",
      "Epoch 9/50\n",
      "\u001b[1m66/66\u001b[0m \u001b[32m━━━━━━━━━━━━━━━━━━━━\u001b[0m\u001b[37m\u001b[0m \u001b[1m0s\u001b[0m 2ms/step - loss: 0.2711 - val_loss: 0.3095\n",
      "Epoch 10/50\n",
      "\u001b[1m66/66\u001b[0m \u001b[32m━━━━━━━━━━━━━━━━━━━━\u001b[0m\u001b[37m\u001b[0m \u001b[1m0s\u001b[0m 2ms/step - loss: 0.2459 - val_loss: 0.2961\n",
      "Epoch 11/50\n",
      "\u001b[1m66/66\u001b[0m \u001b[32m━━━━━━━━━━━━━━━━━━━━\u001b[0m\u001b[37m\u001b[0m \u001b[1m0s\u001b[0m 2ms/step - loss: 0.2337 - val_loss: 0.2989\n",
      "Epoch 12/50\n",
      "\u001b[1m66/66\u001b[0m \u001b[32m━━━━━━━━━━━━━━━━━━━━\u001b[0m\u001b[37m\u001b[0m \u001b[1m0s\u001b[0m 2ms/step - loss: 0.2279 - val_loss: 0.2948\n",
      "Epoch 13/50\n",
      "\u001b[1m66/66\u001b[0m \u001b[32m━━━━━━━━━━━━━━━━━━━━\u001b[0m\u001b[37m\u001b[0m \u001b[1m0s\u001b[0m 2ms/step - loss: 0.2300 - val_loss: 0.2778\n",
      "Epoch 14/50\n",
      "\u001b[1m66/66\u001b[0m \u001b[32m━━━━━━━━━━━━━━━━━━━━\u001b[0m\u001b[37m\u001b[0m \u001b[1m0s\u001b[0m 2ms/step - loss: 0.2190 - val_loss: 0.2807\n",
      "Epoch 15/50\n",
      "\u001b[1m66/66\u001b[0m \u001b[32m━━━━━━━━━━━━━━━━━━━━\u001b[0m\u001b[37m\u001b[0m \u001b[1m0s\u001b[0m 3ms/step - loss: 0.2182 - val_loss: 0.3032\n",
      "Epoch 16/50\n",
      "\u001b[1m66/66\u001b[0m \u001b[32m━━━━━━━━━━━━━━━━━━━━\u001b[0m\u001b[37m\u001b[0m \u001b[1m0s\u001b[0m 3ms/step - loss: 0.2083 - val_loss: 0.2838\n",
      "Epoch 17/50\n",
      "\u001b[1m66/66\u001b[0m \u001b[32m━━━━━━━━━━━━━━━━━━━━\u001b[0m\u001b[37m\u001b[0m \u001b[1m0s\u001b[0m 3ms/step - loss: 0.2141 - val_loss: 0.2552\n",
      "Epoch 18/50\n",
      "\u001b[1m66/66\u001b[0m \u001b[32m━━━━━━━━━━━━━━━━━━━━\u001b[0m\u001b[37m\u001b[0m \u001b[1m0s\u001b[0m 3ms/step - loss: 0.2204 - val_loss: 0.2648\n",
      "Epoch 19/50\n",
      "\u001b[1m66/66\u001b[0m \u001b[32m━━━━━━━━━━━━━━━━━━━━\u001b[0m\u001b[37m\u001b[0m \u001b[1m0s\u001b[0m 3ms/step - loss: 0.2008 - val_loss: 0.2622\n",
      "Epoch 20/50\n",
      "\u001b[1m66/66\u001b[0m \u001b[32m━━━━━━━━━━━━━━━━━━━━\u001b[0m\u001b[37m\u001b[0m \u001b[1m0s\u001b[0m 3ms/step - loss: 0.2143 - val_loss: 0.2706\n",
      "Epoch 21/50\n",
      "\u001b[1m66/66\u001b[0m \u001b[32m━━━━━━━━━━━━━━━━━━━━\u001b[0m\u001b[37m\u001b[0m \u001b[1m0s\u001b[0m 2ms/step - loss: 0.2156 - val_loss: 0.2494\n",
      "Epoch 22/50\n",
      "\u001b[1m66/66\u001b[0m \u001b[32m━━━━━━━━━━━━━━━━━━━━\u001b[0m\u001b[37m\u001b[0m \u001b[1m0s\u001b[0m 2ms/step - loss: 0.1845 - val_loss: 0.2660\n",
      "Epoch 23/50\n",
      "\u001b[1m66/66\u001b[0m \u001b[32m━━━━━━━━━━━━━━━━━━━━\u001b[0m\u001b[37m\u001b[0m \u001b[1m0s\u001b[0m 2ms/step - loss: 0.1864 - val_loss: 0.2541\n",
      "Epoch 24/50\n",
      "\u001b[1m66/66\u001b[0m \u001b[32m━━━━━━━━━━━━━━━━━━━━\u001b[0m\u001b[37m\u001b[0m \u001b[1m0s\u001b[0m 2ms/step - loss: 0.1812 - val_loss: 0.2380\n",
      "Epoch 25/50\n",
      "\u001b[1m66/66\u001b[0m \u001b[32m━━━━━━━━━━━━━━━━━━━━\u001b[0m\u001b[37m\u001b[0m \u001b[1m0s\u001b[0m 2ms/step - loss: 0.1850 - val_loss: 0.2297\n",
      "Epoch 26/50\n",
      "\u001b[1m66/66\u001b[0m \u001b[32m━━━━━━━━━━━━━━━━━━━━\u001b[0m\u001b[37m\u001b[0m \u001b[1m0s\u001b[0m 3ms/step - loss: 0.1718 - val_loss: 0.2328\n",
      "Epoch 27/50\n",
      "\u001b[1m66/66\u001b[0m \u001b[32m━━━━━━━━━━━━━━━━━━━━\u001b[0m\u001b[37m\u001b[0m \u001b[1m0s\u001b[0m 2ms/step - loss: 0.1734 - val_loss: 0.2231\n",
      "Epoch 28/50\n",
      "\u001b[1m66/66\u001b[0m \u001b[32m━━━━━━━━━━━━━━━━━━━━\u001b[0m\u001b[37m\u001b[0m \u001b[1m0s\u001b[0m 3ms/step - loss: 0.1827 - val_loss: 0.2218\n",
      "Epoch 29/50\n",
      "\u001b[1m66/66\u001b[0m \u001b[32m━━━━━━━━━━━━━━━━━━━━\u001b[0m\u001b[37m\u001b[0m \u001b[1m0s\u001b[0m 3ms/step - loss: 0.1765 - val_loss: 0.2153\n",
      "Epoch 30/50\n",
      "\u001b[1m66/66\u001b[0m \u001b[32m━━━━━━━━━━━━━━━━━━━━\u001b[0m\u001b[37m\u001b[0m \u001b[1m0s\u001b[0m 3ms/step - loss: 0.1586 - val_loss: 0.2120\n",
      "Epoch 31/50\n",
      "\u001b[1m66/66\u001b[0m \u001b[32m━━━━━━━━━━━━━━━━━━━━\u001b[0m\u001b[37m\u001b[0m \u001b[1m0s\u001b[0m 3ms/step - loss: 0.1736 - val_loss: 0.2121\n",
      "Epoch 32/50\n",
      "\u001b[1m66/66\u001b[0m \u001b[32m━━━━━━━━━━━━━━━━━━━━\u001b[0m\u001b[37m\u001b[0m \u001b[1m0s\u001b[0m 3ms/step - loss: 0.1598 - val_loss: 0.2117\n",
      "Epoch 33/50\n",
      "\u001b[1m66/66\u001b[0m \u001b[32m━━━━━━━━━━━━━━━━━━━━\u001b[0m\u001b[37m\u001b[0m \u001b[1m0s\u001b[0m 3ms/step - loss: 0.1575 - val_loss: 0.2135\n",
      "Epoch 34/50\n",
      "\u001b[1m66/66\u001b[0m \u001b[32m━━━━━━━━━━━━━━━━━━━━\u001b[0m\u001b[37m\u001b[0m \u001b[1m0s\u001b[0m 3ms/step - loss: 0.1539 - val_loss: 0.2050\n",
      "Epoch 35/50\n",
      "\u001b[1m66/66\u001b[0m \u001b[32m━━━━━━━━━━━━━━━━━━━━\u001b[0m\u001b[37m\u001b[0m \u001b[1m0s\u001b[0m 2ms/step - loss: 0.1815 - val_loss: 0.2100\n",
      "Epoch 36/50\n",
      "\u001b[1m66/66\u001b[0m \u001b[32m━━━━━━━━━━━━━━━━━━━━\u001b[0m\u001b[37m\u001b[0m \u001b[1m0s\u001b[0m 2ms/step - loss: 0.1443 - val_loss: 0.2013\n",
      "Epoch 37/50\n",
      "\u001b[1m66/66\u001b[0m \u001b[32m━━━━━━━━━━━━━━━━━━━━\u001b[0m\u001b[37m\u001b[0m \u001b[1m0s\u001b[0m 2ms/step - loss: 0.1425 - val_loss: 0.2942\n",
      "Epoch 38/50\n",
      "\u001b[1m66/66\u001b[0m \u001b[32m━━━━━━━━━━━━━━━━━━━━\u001b[0m\u001b[37m\u001b[0m \u001b[1m0s\u001b[0m 2ms/step - loss: 0.2957 - val_loss: 0.2333\n",
      "Epoch 39/50\n",
      "\u001b[1m66/66\u001b[0m \u001b[32m━━━━━━━━━━━━━━━━━━━━\u001b[0m\u001b[37m\u001b[0m \u001b[1m0s\u001b[0m 3ms/step - loss: 0.1612 - val_loss: 0.2020\n",
      "Epoch 40/50\n",
      "\u001b[1m66/66\u001b[0m \u001b[32m━━━━━━━━━━━━━━━━━━━━\u001b[0m\u001b[37m\u001b[0m \u001b[1m0s\u001b[0m 2ms/step - loss: 0.1489 - val_loss: 0.2073\n",
      "Epoch 41/50\n",
      "\u001b[1m66/66\u001b[0m \u001b[32m━━━━━━━━━━━━━━━━━━━━\u001b[0m\u001b[37m\u001b[0m \u001b[1m0s\u001b[0m 3ms/step - loss: 0.1430 - val_loss: 0.1964\n",
      "Epoch 42/50\n",
      "\u001b[1m66/66\u001b[0m \u001b[32m━━━━━━━━━━━━━━━━━━━━\u001b[0m\u001b[37m\u001b[0m \u001b[1m0s\u001b[0m 3ms/step - loss: 0.1471 - val_loss: 0.1988\n",
      "Epoch 43/50\n",
      "\u001b[1m66/66\u001b[0m \u001b[32m━━━━━━━━━━━━━━━━━━━━\u001b[0m\u001b[37m\u001b[0m \u001b[1m0s\u001b[0m 3ms/step - loss: 0.1367 - val_loss: 0.1844\n",
      "Epoch 44/50\n",
      "\u001b[1m66/66\u001b[0m \u001b[32m━━━━━━━━━━━━━━━━━━━━\u001b[0m\u001b[37m\u001b[0m \u001b[1m0s\u001b[0m 3ms/step - loss: 0.1450 - val_loss: 0.1805\n",
      "Epoch 45/50\n",
      "\u001b[1m66/66\u001b[0m \u001b[32m━━━━━━━━━━━━━━━━━━━━\u001b[0m\u001b[37m\u001b[0m \u001b[1m0s\u001b[0m 4ms/step - loss: 0.1319 - val_loss: 0.1895\n",
      "Epoch 46/50\n",
      "\u001b[1m66/66\u001b[0m \u001b[32m━━━━━━━━━━━━━━━━━━━━\u001b[0m\u001b[37m\u001b[0m \u001b[1m0s\u001b[0m 2ms/step - loss: 0.1351 - val_loss: 0.2128\n",
      "Epoch 47/50\n",
      "\u001b[1m66/66\u001b[0m \u001b[32m━━━━━━━━━━━━━━━━━━━━\u001b[0m\u001b[37m\u001b[0m \u001b[1m0s\u001b[0m 5ms/step - loss: 0.1649 - val_loss: 0.1810\n",
      "Epoch 48/50\n",
      "\u001b[1m66/66\u001b[0m \u001b[32m━━━━━━━━━━━━━━━━━━━━\u001b[0m\u001b[37m\u001b[0m \u001b[1m0s\u001b[0m 2ms/step - loss: 0.1433 - val_loss: 0.1775\n",
      "Epoch 49/50\n",
      "\u001b[1m66/66\u001b[0m \u001b[32m━━━━━━━━━━━━━━━━━━━━\u001b[0m\u001b[37m\u001b[0m \u001b[1m0s\u001b[0m 2ms/step - loss: 0.1466 - val_loss: 0.2216\n",
      "Epoch 50/50\n",
      "\u001b[1m66/66\u001b[0m \u001b[32m━━━━━━━━━━━━━━━━━━━━\u001b[0m\u001b[37m\u001b[0m \u001b[1m0s\u001b[0m 2ms/step - loss: 0.1895 - val_loss: 0.2064\n"
     ]
    }
   ],
   "source": [
    "history = model.fit(\n",
    "    X_train, \n",
    "    y_train, \n",
    "    epochs=50,  # Number of epochs\n",
    "    batch_size=32,  # Batch size\n",
    "    validation_split=0.1,  # Split part of the training data for validation\n",
    "    verbose=1  # Verbosity mode\n",
    ")"
   ]
  },
  {
   "cell_type": "code",
   "execution_count": 132,
   "metadata": {},
   "outputs": [
    {
     "name": "stdout",
     "output_type": "stream",
     "text": [
      "\u001b[1m13/13\u001b[0m \u001b[32m━━━━━━━━━━━━━━━━━━━━\u001b[0m\u001b[37m\u001b[0m \u001b[1m0s\u001b[0m 3ms/step \n"
     ]
    }
   ],
   "source": [
    "predictions = model.predict(X_test)"
   ]
  },
  {
   "cell_type": "code",
   "execution_count": 130,
   "metadata": {},
   "outputs": [],
   "source": [
    "import matplotlib.pyplot as plt"
   ]
  },
  {
   "cell_type": "code",
   "execution_count": 133,
   "metadata": {},
   "outputs": [
    {
     "data": {
      "image/png": "[encoded data removed]",
      "text/plain": [
       "<Figure size 1000x600 with 1 Axes>"
      ]
     },
     "metadata": {},
     "output_type": "display_data"
    }
   ],
   "source": [
    "predictions = predictions.flatten()\n",
    "y_test = np.array(y_test).flatten()\n",
    "\n",
    "# Create a scatter plot\n",
    "plt.figure(figsize=(10, 6))\n",
    "plt.scatter(y_test, predictions, alpha=0.5)\n",
    "plt.plot([min(y_test), max(y_test)], [min(y_test), max(y_test)], color='red', linestyle='--')\n",
    "plt.xlabel('True Formation Energies')\n",
    "plt.ylabel('Predicted Formation Energies')\n",
    "plt.title('Predicted vs. True Formation Energies')\n",
    "plt.grid(True)\n",
    "plt.show()"
   ]
  },
  {
   "cell_type": "code",
   "execution_count": null,
   "metadata": {},
   "outputs": [],
   "source": []
  }
 ],
 "metadata": {
  "language_info": {
   "name": "python"
  }
 },
 "nbformat": 4,
 "nbformat_minor": 2
}
